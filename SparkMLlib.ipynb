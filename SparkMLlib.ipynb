{
 "cells": [
  {
   "cell_type": "code",
   "execution_count": 1,
   "id": "74ece141-4ee8-4d3e-9f8d-fa5059b2dcca",
   "metadata": {
    "tags": []
   },
   "outputs": [],
   "source": [
    "from pyspark.sql import SparkSession\n",
    "import pyspark.sql.functions as F\n",
    "import pyspark.sql.types as T\n",
    "\n",
    "spark = SparkSession.builder.getOrCreate()"
   ]
  },
  {
   "cell_type": "code",
   "execution_count": 2,
   "id": "8cec3313-60cc-476e-a7f4-3c8b63c9268e",
   "metadata": {
    "tags": []
   },
   "outputs": [
    {
     "data": {
      "text/html": [
       "\n",
       "            <div>\n",
       "                <p><b>SparkSession - in-memory</b></p>\n",
       "                \n",
       "        <div>\n",
       "            <p><b>SparkContext</b></p>\n",
       "\n",
       "            <p><a href=\"http://host.docker.internal:4041\">Spark UI</a></p>\n",
       "\n",
       "            <dl>\n",
       "              <dt>Version</dt>\n",
       "                <dd><code>v3.5.0</code></dd>\n",
       "              <dt>Master</dt>\n",
       "                <dd><code>local[*]</code></dd>\n",
       "              <dt>AppName</dt>\n",
       "                <dd><code>pyspark-shell</code></dd>\n",
       "            </dl>\n",
       "        </div>\n",
       "        \n",
       "            </div>\n",
       "        "
      ],
      "text/plain": [
       "<pyspark.sql.session.SparkSession at 0x212bdfe7510>"
      ]
     },
     "execution_count": 2,
     "metadata": {},
     "output_type": "execute_result"
    }
   ],
   "source": [
    "spark"
   ]
  },
  {
   "cell_type": "code",
   "execution_count": 9,
   "id": "27b42028-dbda-44fa-9f1d-fb2223dcec56",
   "metadata": {
    "tags": []
   },
   "outputs": [],
   "source": [
    "import os\n",
    "from os.path import isfile, join\n",
    "\n",
    "loc = os.path.abspath(\"D:\\\\\")\n",
    "data_loc = f\"{loc}\\\\train_data\\\\\""
   ]
  },
  {
   "cell_type": "code",
   "execution_count": 11,
   "id": "600ae734-e673-41b1-a6d4-3f38c3bafaa3",
   "metadata": {
    "tags": []
   },
   "outputs": [],
   "source": [
    "df = spark.read.csv(\n",
    "    f\"{data_loc}Synthetic Financial Data.csv\",inferSchema=True, header=True\n",
    ")"
   ]
  },
  {
   "cell_type": "code",
   "execution_count": 12,
   "id": "82778ce1-0a0b-48bb-845a-9e5d685284f1",
   "metadata": {},
   "outputs": [
    {
     "name": "stdout",
     "output_type": "stream",
     "text": [
      "root\n",
      " |-- step: integer (nullable = true)\n",
      " |-- type: string (nullable = true)\n",
      " |-- amount: double (nullable = true)\n",
      " |-- nameOrig: string (nullable = true)\n",
      " |-- oldbalanceOrg: double (nullable = true)\n",
      " |-- newbalanceOrig: double (nullable = true)\n",
      " |-- nameDest: string (nullable = true)\n",
      " |-- oldbalanceDest: double (nullable = true)\n",
      " |-- newbalanceDest: double (nullable = true)\n",
      " |-- isFlaggedFraud: integer (nullable = true)\n",
      " |-- isFraud: integer (nullable = true)\n",
      "\n"
     ]
    }
   ],
   "source": [
    "df.printSchema()"
   ]
  },
  {
   "cell_type": "code",
   "execution_count": 13,
   "id": "7ee3ee55-00d8-49c1-8b54-3367b3ababc5",
   "metadata": {
    "tags": []
   },
   "outputs": [
    {
     "name": "stdout",
     "output_type": "stream",
     "text": [
      "+----+-------+---------+----------+-------------+--------------+-----------+--------------+--------------+--------------+-------+\n",
      "|step|   type|   amount|  nameOrig|oldbalanceOrg|newbalanceOrig|   nameDest|oldbalanceDest|newbalanceDest|isFlaggedFraud|isFraud|\n",
      "+----+-------+---------+----------+-------------+--------------+-----------+--------------+--------------+--------------+-------+\n",
      "| 619|CASH_IN|386385.08|C421351828|   4669568.85|    5055953.92|C1977099364|     506035.06|     119649.98|             0|      0|\n",
      "| 164|CASH_IN|212458.78| C83569848|     234635.0|     447093.78|C1690589535|     806037.88|      593579.1|             0|      0|\n",
      "| 382|PAYMENT|  19967.6|C852995095|       3634.0|           0.0|M1695416333|           0.0|           0.0|             0|      0|\n",
      "+----+-------+---------+----------+-------------+--------------+-----------+--------------+--------------+--------------+-------+\n",
      "only showing top 3 rows\n",
      "\n"
     ]
    }
   ],
   "source": [
    "df.show(3)"
   ]
  },
  {
   "cell_type": "code",
   "execution_count": 15,
   "id": "9f0a8950-0a94-4850-a41e-20abce141d0f",
   "metadata": {
    "tags": []
   },
   "outputs": [],
   "source": [
    "df = df.select(\"type\", \"amount\", \"oldbalanceOrg\", \"newbalanceOrig\", \"isFraud\")"
   ]
  },
  {
   "cell_type": "code",
   "execution_count": 16,
   "id": "cd03f821-2fbb-4064-bc88-69e5a5a21239",
   "metadata": {
    "tags": []
   },
   "outputs": [
    {
     "name": "stdout",
     "output_type": "stream",
     "text": [
      "+--------+---------+-------------+--------------+-------+\n",
      "|    type|   amount|oldbalanceOrg|newbalanceOrig|isFraud|\n",
      "+--------+---------+-------------+--------------+-------+\n",
      "| CASH_IN|386385.08|   4669568.85|    5055953.92|      0|\n",
      "| CASH_IN|212458.78|     234635.0|     447093.78|      0|\n",
      "| PAYMENT|  19967.6|       3634.0|           0.0|      0|\n",
      "|CASH_OUT|527616.51|     180216.0|           0.0|      0|\n",
      "+--------+---------+-------------+--------------+-------+\n",
      "only showing top 4 rows\n",
      "\n"
     ]
    }
   ],
   "source": [
    "df.show(4)"
   ]
  },
  {
   "cell_type": "markdown",
   "id": "64970959-dd27-4b01-bd40-92a77d2507dc",
   "metadata": {},
   "source": [
    "## Train/Test Split"
   ]
  },
  {
   "cell_type": "code",
   "execution_count": 17,
   "id": "9bc32deb-0ac6-4f46-b31d-a8d98f27712f",
   "metadata": {
    "tags": []
   },
   "outputs": [],
   "source": [
    "train, test = df.randomSplit([.7, .3], seed = 7)"
   ]
  },
  {
   "cell_type": "code",
   "execution_count": 18,
   "id": "811e8284-ea16-4d0b-ba56-d9cb0d33c860",
   "metadata": {
    "tags": []
   },
   "outputs": [
    {
     "name": "stdout",
     "output_type": "stream",
     "text": [
      "Train set length: 3561695 records\n",
      "Test set length: 1528401 records\n"
     ]
    }
   ],
   "source": [
    "print(f\"Train set length: {train.count()} records\")\n",
    "print(f\"Test set length: {test.count()} records\")"
   ]
  },
  {
   "cell_type": "code",
   "execution_count": 19,
   "id": "70602e19-a71e-44fd-8e9c-56c906ac9fbf",
   "metadata": {
    "tags": []
   },
   "outputs": [
    {
     "name": "stdout",
     "output_type": "stream",
     "text": [
      "+-------+------+-------------+--------------+-------+\n",
      "|   type|amount|oldbalanceOrg|newbalanceOrig|isFraud|\n",
      "+-------+------+-------------+--------------+-------+\n",
      "|CASH_IN|  5.28|   8752959.06|    8752964.34|      0|\n",
      "|CASH_IN|  9.02|   2416260.59|    2416269.61|      0|\n",
      "|CASH_IN|  10.3|      58585.0|       58595.3|      0|\n",
      "+-------+------+-------------+--------------+-------+\n",
      "only showing top 3 rows\n",
      "\n"
     ]
    }
   ],
   "source": [
    "train.show(3)"
   ]
  },
  {
   "cell_type": "markdown",
   "id": "756b5179-eeae-43aa-9c74-e2f81aba6a7b",
   "metadata": {},
   "source": [
    "### Data Types"
   ]
  },
  {
   "cell_type": "code",
   "execution_count": 20,
   "id": "542a6238-ad48-42c7-b2d9-c555bd4b5b91",
   "metadata": {
    "tags": []
   },
   "outputs": [
    {
     "data": {
      "text/plain": [
       "[('type', 'string'),\n",
       " ('amount', 'double'),\n",
       " ('oldbalanceOrg', 'double'),\n",
       " ('newbalanceOrig', 'double'),\n",
       " ('isFraud', 'int')]"
      ]
     },
     "execution_count": 20,
     "metadata": {},
     "output_type": "execute_result"
    }
   ],
   "source": [
    "train.dtypes"
   ]
  },
  {
   "cell_type": "code",
   "execution_count": 21,
   "id": "d4d285c1-1b3c-4d25-a6e3-86e420e6071e",
   "metadata": {
    "tags": []
   },
   "outputs": [],
   "source": [
    "catCols = [x for (x, dataType) in train.dtypes if dataType == \"string\"]\n",
    "numCols = [\n",
    "    x for (x, dataType) in train.dtypes if ((dataType == \"double\") & (x != \"isFraud\"))\n",
    "]"
   ]
  },
  {
   "cell_type": "code",
   "execution_count": 22,
   "id": "04744bd5-4cc6-4a7b-a5e7-ad645e1f1a40",
   "metadata": {
    "tags": []
   },
   "outputs": [
    {
     "name": "stdout",
     "output_type": "stream",
     "text": [
      "['amount', 'oldbalanceOrg', 'newbalanceOrig']\n",
      "['type']\n"
     ]
    }
   ],
   "source": [
    "print(numCols)\n",
    "print(catCols)"
   ]
  },
  {
   "cell_type": "markdown",
   "id": "9437fcc8-f116-4350-8407-191099df71b4",
   "metadata": {},
   "source": [
    "## One hot encoding"
   ]
  },
  {
   "cell_type": "code",
   "execution_count": 23,
   "id": "f1f403ad-1298-4c8d-a2ce-ffab02e17802",
   "metadata": {
    "tags": []
   },
   "outputs": [
    {
     "name": "stdout",
     "output_type": "stream",
     "text": [
      "+--------------------+\n",
      "|count(DISTINCT type)|\n",
      "+--------------------+\n",
      "|                   5|\n",
      "+--------------------+\n",
      "\n"
     ]
    }
   ],
   "source": [
    "train.agg(F.countDistinct(\"type\")).show()"
   ]
  },
  {
   "cell_type": "code",
   "execution_count": 25,
   "id": "f3b20009-5ff7-4c4e-b95a-5824ec2c7b25",
   "metadata": {
    "tags": []
   },
   "outputs": [
    {
     "name": "stdout",
     "output_type": "stream",
     "text": [
      "+--------+-------+\n",
      "|    type|  count|\n",
      "+--------+-------+\n",
      "|TRANSFER| 298452|\n",
      "| CASH_IN| 783037|\n",
      "|CASH_OUT|1253864|\n",
      "| PAYMENT|1203106|\n",
      "|   DEBIT|  23236|\n",
      "+--------+-------+\n",
      "\n"
     ]
    }
   ],
   "source": [
    "train.groupBy(\"type\").count().show()"
   ]
  },
  {
   "cell_type": "code",
   "execution_count": 26,
   "id": "c70b0306-f2a1-4e0b-a76b-40230f03830a",
   "metadata": {
    "tags": []
   },
   "outputs": [],
   "source": [
    "from pyspark.ml.feature import (\n",
    "    OneHotEncoder,\n",
    "    StringIndexer,\n",
    ")"
   ]
  },
  {
   "cell_type": "code",
   "execution_count": 27,
   "id": "ce53a477-4cf1-4008-be00-fe90606e052c",
   "metadata": {
    "tags": []
   },
   "outputs": [],
   "source": [
    "string_indexer = [\n",
    "    StringIndexer(inputCol=x, outputCol=x + \"_StringIndexer\", handleInvalid=\"skip\")\n",
    "    for x in catCols\n",
    "]"
   ]
  },
  {
   "cell_type": "code",
   "execution_count": 28,
   "id": "d2261f52-21a4-446f-b9d5-3c631949617e",
   "metadata": {
    "tags": []
   },
   "outputs": [
    {
     "data": {
      "text/plain": [
       "[StringIndexer_502a5bc9834a]"
      ]
     },
     "execution_count": 28,
     "metadata": {},
     "output_type": "execute_result"
    }
   ],
   "source": [
    "string_indexer"
   ]
  },
  {
   "cell_type": "code",
   "execution_count": 30,
   "id": "d842dda3-e512-4b2c-843c-d1e64416aa61",
   "metadata": {
    "tags": []
   },
   "outputs": [],
   "source": [
    "one_hot_encoder = [\n",
    "    OneHotEncoder(\n",
    "        inputCols=[f\"{x}_StringIndexer\" for x in catCols],\n",
    "        outputCols=[f\"{x}_OneHotEncoder\" for x in catCols],\n",
    "    )\n",
    "]"
   ]
  },
  {
   "cell_type": "code",
   "execution_count": 31,
   "id": "76b0e2c2-3922-4246-b8e3-007fe131f7c1",
   "metadata": {
    "tags": []
   },
   "outputs": [
    {
     "data": {
      "text/plain": [
       "[OneHotEncoder_bab30181f733]"
      ]
     },
     "execution_count": 31,
     "metadata": {},
     "output_type": "execute_result"
    }
   ],
   "source": [
    "one_hot_encoder"
   ]
  },
  {
   "cell_type": "markdown",
   "id": "871455dd-8f40-483a-b45b-8f0b23b02a21",
   "metadata": {},
   "source": [
    "## Vector Assembling"
   ]
  },
  {
   "cell_type": "code",
   "execution_count": 32,
   "id": "434befea-d933-463e-951d-512e07f5ef0b",
   "metadata": {
    "tags": []
   },
   "outputs": [],
   "source": [
    "from pyspark.ml.feature import VectorAssembler"
   ]
  },
  {
   "cell_type": "code",
   "execution_count": 33,
   "id": "29cbf55a-507f-4478-93c9-285125928bbe",
   "metadata": {
    "tags": []
   },
   "outputs": [],
   "source": [
    "assemblerInput = [x for x in numCols]\n",
    "assemblerInput += [f\"{x}_OneHotEncoder\"for x in catCols]"
   ]
  },
  {
   "cell_type": "code",
   "execution_count": 34,
   "id": "3a513581-fb22-481c-a66c-06d13a91adb8",
   "metadata": {
    "tags": []
   },
   "outputs": [
    {
     "data": {
      "text/plain": [
       "['amount', 'oldbalanceOrg', 'newbalanceOrig', 'type_OneHotEncoder']"
      ]
     },
     "execution_count": 34,
     "metadata": {},
     "output_type": "execute_result"
    }
   ],
   "source": [
    "assemblerInput"
   ]
  },
  {
   "cell_type": "code",
   "execution_count": 35,
   "id": "26762d0c-2998-47ef-8bdb-a84d984667b3",
   "metadata": {
    "tags": []
   },
   "outputs": [],
   "source": [
    "vector_assembler = VectorAssembler(\n",
    "    inputCols=assemblerInput, outputCol=\"VectorAssembler_features\"\n",
    ")"
   ]
  },
  {
   "cell_type": "code",
   "execution_count": 36,
   "id": "e8c27432-7d07-4304-ae32-d05823a03d7d",
   "metadata": {
    "tags": []
   },
   "outputs": [],
   "source": [
    "stages = []\n",
    "stages += string_indexer\n",
    "stages += one_hot_encoder\n",
    "stages += [vector_assembler]"
   ]
  },
  {
   "cell_type": "code",
   "execution_count": 37,
   "id": "dd7b870a-f97d-4f98-a338-4fd1d4751ed5",
   "metadata": {
    "tags": []
   },
   "outputs": [
    {
     "data": {
      "text/plain": [
       "[StringIndexer_502a5bc9834a,\n",
       " OneHotEncoder_bab30181f733,\n",
       " VectorAssembler_f8c088944786]"
      ]
     },
     "execution_count": 37,
     "metadata": {},
     "output_type": "execute_result"
    }
   ],
   "source": [
    "stages"
   ]
  },
  {
   "cell_type": "code",
   "execution_count": 39,
   "id": "e7b3ab3b-f4ad-43d1-a83e-457c6746f244",
   "metadata": {
    "tags": []
   },
   "outputs": [
    {
     "name": "stdout",
     "output_type": "stream",
     "text": [
      "CPU times: total: 0 ns\n",
      "Wall time: 12.7 s\n"
     ]
    }
   ],
   "source": [
    "%%time\n",
    "from pyspark.ml import Pipeline\n",
    "\n",
    "pipeline = Pipeline().setStages(stages)\n",
    "model = pipeline.fit(train)\n",
    "\n",
    "pp_df = model.transform(test)"
   ]
  },
  {
   "cell_type": "code",
   "execution_count": 40,
   "id": "0a469784-1d63-47c6-9f9b-c5bef8618b16",
   "metadata": {
    "tags": []
   },
   "outputs": [
    {
     "name": "stdout",
     "output_type": "stream",
     "text": [
      "+-------+------+-------------+--------------+---------------------------------------------------+\n",
      "|type   |amount|oldbalanceOrg|newbalanceOrig|VectorAssembler_features                           |\n",
      "+-------+------+-------------+--------------+---------------------------------------------------+\n",
      "|CASH_IN|9.04  |99971.0      |99980.04      |[9.04,99971.0,99980.04,0.0,0.0,1.0,0.0]            |\n",
      "|CASH_IN|12.79 |601743.0     |601755.79     |[12.79,601743.0,601755.79,0.0,0.0,1.0,0.0]         |\n",
      "|CASH_IN|16.3  |2.140511936E7|2.140513566E7 |[16.3,2.140511936E7,2.140513566E7,0.0,0.0,1.0,0.0] |\n",
      "|CASH_IN|20.34 |991344.41    |991364.74     |[20.34,991344.41,991364.74,0.0,0.0,1.0,0.0]        |\n",
      "|CASH_IN|25.02 |2.449835711E7|2.449838213E7 |[25.02,2.449835711E7,2.449838213E7,0.0,0.0,1.0,0.0]|\n",
      "|CASH_IN|26.67 |2117097.76   |2117124.43    |[26.67,2117097.76,2117124.43,0.0,0.0,1.0,0.0]      |\n",
      "|CASH_IN|36.32 |3206.45      |3242.77       |[36.32,3206.45,3242.77,0.0,0.0,1.0,0.0]            |\n",
      "|CASH_IN|37.96 |983.0        |1020.96       |[37.96,983.0,1020.96,0.0,0.0,1.0,0.0]              |\n",
      "|CASH_IN|42.47 |298.0        |340.47        |[42.47,298.0,340.47,0.0,0.0,1.0,0.0]               |\n",
      "|CASH_IN|47.44 |1967493.59   |1967541.03    |[47.44,1967493.59,1967541.03,0.0,0.0,1.0,0.0]      |\n",
      "|CASH_IN|51.02 |5712940.3    |5712991.32    |[51.02,5712940.3,5712991.32,0.0,0.0,1.0,0.0]       |\n",
      "|CASH_IN|53.66 |170864.0     |170917.66     |[53.66,170864.0,170917.66,0.0,0.0,1.0,0.0]         |\n",
      "|CASH_IN|56.26 |60167.0      |60223.26      |[56.26,60167.0,60223.26,0.0,0.0,1.0,0.0]           |\n",
      "|CASH_IN|70.66 |1703660.77   |1703731.44    |[70.66,1703660.77,1703731.44,0.0,0.0,1.0,0.0]      |\n",
      "|CASH_IN|72.42 |6183.0       |6255.42       |[72.42,6183.0,6255.42,0.0,0.0,1.0,0.0]             |\n",
      "|CASH_IN|78.03 |6178000.21   |6178078.24    |[78.03,6178000.21,6178078.24,0.0,0.0,1.0,0.0]      |\n",
      "|CASH_IN|79.35 |3472844.69   |3472924.03    |[79.35,3472844.69,3472924.03,0.0,0.0,1.0,0.0]      |\n",
      "|CASH_IN|81.79 |747977.13    |748058.92     |[81.79,747977.13,748058.92,0.0,0.0,1.0,0.0]        |\n",
      "|CASH_IN|96.17 |47044.0      |47140.17      |[96.17,47044.0,47140.17,0.0,0.0,1.0,0.0]           |\n",
      "|CASH_IN|97.83 |2086377.01   |2086474.84    |[97.83,2086377.01,2086474.84,0.0,0.0,1.0,0.0]      |\n",
      "+-------+------+-------------+--------------+---------------------------------------------------+\n",
      "only showing top 20 rows\n",
      "\n"
     ]
    }
   ],
   "source": [
    "pp_df.select(\n",
    "    \"type\", \"amount\", \"oldbalanceOrg\", \"newbalanceOrig\", \"VectorAssembler_features\",\n",
    ").show(truncate=False)"
   ]
  },
  {
   "cell_type": "markdown",
   "id": "6dd02cc9-34be-4684-b110-5a20431fb1d7",
   "metadata": {},
   "source": [
    "## Logistic Regression"
   ]
  },
  {
   "cell_type": "code",
   "execution_count": 41,
   "id": "dd3bd86e-1074-4125-8588-28f2633df7f6",
   "metadata": {
    "tags": []
   },
   "outputs": [],
   "source": [
    "from pyspark.ml.classification import LogisticRegression"
   ]
  },
  {
   "cell_type": "code",
   "execution_count": 42,
   "id": "1e52ff1f-369c-46f3-9ed4-1ca3ef19f2fc",
   "metadata": {
    "tags": []
   },
   "outputs": [],
   "source": [
    "data = pp_df.select(\n",
    "    F.col(\"VectorAssembler_features\").alias(\"features\"),\n",
    "    F.col(\"isFraud\").alias(\"label\"),\n",
    ")"
   ]
  },
  {
   "cell_type": "code",
   "execution_count": null,
   "id": "26ace3ab-136b-4afe-be05-2032f9762478",
   "metadata": {},
   "outputs": [],
   "source": []
  }
 ],
 "metadata": {
  "kernelspec": {
   "display_name": "Python 3 (ipykernel)",
   "language": "python",
   "name": "python3"
  },
  "language_info": {
   "codemirror_mode": {
    "name": "ipython",
    "version": 3
   },
   "file_extension": ".py",
   "mimetype": "text/x-python",
   "name": "python",
   "nbconvert_exporter": "python",
   "pygments_lexer": "ipython3",
   "version": "3.11.5"
  }
 },
 "nbformat": 4,
 "nbformat_minor": 5
}
