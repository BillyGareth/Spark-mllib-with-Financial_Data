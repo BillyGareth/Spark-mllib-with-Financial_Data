{
 "cells": [
  {
   "cell_type": "code",
   "execution_count": 1,
   "id": "74ece141-4ee8-4d3e-9f8d-fa5059b2dcca",
   "metadata": {
    "tags": []
   },
   "outputs": [],
   "source": [
    "from pyspark.sql import SparkSession\n",
    "import pyspark.sql.functions as F\n",
    "import pyspark.sql.types as T\n",
    "\n",
    "spark = SparkSession.builder.getOrCreate()"
   ]
  },
  {
   "cell_type": "code",
   "execution_count": 2,
   "id": "8cec3313-60cc-476e-a7f4-3c8b63c9268e",
   "metadata": {
    "tags": []
   },
   "outputs": [
    {
     "data": {
      "text/html": [
       "\n",
       "            <div>\n",
       "                <p><b>SparkSession - in-memory</b></p>\n",
       "                \n",
       "        <div>\n",
       "            <p><b>SparkContext</b></p>\n",
       "\n",
       "            <p><a href=\"http://host.docker.internal:4041\">Spark UI</a></p>\n",
       "\n",
       "            <dl>\n",
       "              <dt>Version</dt>\n",
       "                <dd><code>v3.5.0</code></dd>\n",
       "              <dt>Master</dt>\n",
       "                <dd><code>local[*]</code></dd>\n",
       "              <dt>AppName</dt>\n",
       "                <dd><code>pyspark-shell</code></dd>\n",
       "            </dl>\n",
       "        </div>\n",
       "        \n",
       "            </div>\n",
       "        "
      ],
      "text/plain": [
       "<pyspark.sql.session.SparkSession at 0x212bdfe7510>"
      ]
     },
     "execution_count": 2,
     "metadata": {},
     "output_type": "execute_result"
    }
   ],
   "source": [
    "spark"
   ]
  },
  {
   "cell_type": "code",
   "execution_count": 9,
   "id": "27b42028-dbda-44fa-9f1d-fb2223dcec56",
   "metadata": {
    "tags": []
   },
   "outputs": [],
   "source": [
    "import os\n",
    "from os.path import isfile, join\n",
    "\n",
    "loc = os.path.abspath(\"D:\\\\\")\n",
    "data_loc = f\"{loc}\\\\train_data\\\\\""
   ]
  },
  {
   "cell_type": "code",
   "execution_count": 11,
   "id": "600ae734-e673-41b1-a6d4-3f38c3bafaa3",
   "metadata": {
    "tags": []
   },
   "outputs": [],
   "source": [
    "df = spark.read.csv(\n",
    "    f\"{data_loc}Synthetic Financial Data.csv\",inferSchema=True, header=True\n",
    ")"
   ]
  },
  {
   "cell_type": "code",
   "execution_count": 12,
   "id": "82778ce1-0a0b-48bb-845a-9e5d685284f1",
   "metadata": {},
   "outputs": [
    {
     "name": "stdout",
     "output_type": "stream",
     "text": [
      "root\n",
      " |-- step: integer (nullable = true)\n",
      " |-- type: string (nullable = true)\n",
      " |-- amount: double (nullable = true)\n",
      " |-- nameOrig: string (nullable = true)\n",
      " |-- oldbalanceOrg: double (nullable = true)\n",
      " |-- newbalanceOrig: double (nullable = true)\n",
      " |-- nameDest: string (nullable = true)\n",
      " |-- oldbalanceDest: double (nullable = true)\n",
      " |-- newbalanceDest: double (nullable = true)\n",
      " |-- isFlaggedFraud: integer (nullable = true)\n",
      " |-- isFraud: integer (nullable = true)\n",
      "\n"
     ]
    }
   ],
   "source": [
    "df.printSchema()"
   ]
  },
  {
   "cell_type": "code",
   "execution_count": 13,
   "id": "7ee3ee55-00d8-49c1-8b54-3367b3ababc5",
   "metadata": {
    "tags": []
   },
   "outputs": [
    {
     "name": "stdout",
     "output_type": "stream",
     "text": [
      "+----+-------+---------+----------+-------------+--------------+-----------+--------------+--------------+--------------+-------+\n",
      "|step|   type|   amount|  nameOrig|oldbalanceOrg|newbalanceOrig|   nameDest|oldbalanceDest|newbalanceDest|isFlaggedFraud|isFraud|\n",
      "+----+-------+---------+----------+-------------+--------------+-----------+--------------+--------------+--------------+-------+\n",
      "| 619|CASH_IN|386385.08|C421351828|   4669568.85|    5055953.92|C1977099364|     506035.06|     119649.98|             0|      0|\n",
      "| 164|CASH_IN|212458.78| C83569848|     234635.0|     447093.78|C1690589535|     806037.88|      593579.1|             0|      0|\n",
      "| 382|PAYMENT|  19967.6|C852995095|       3634.0|           0.0|M1695416333|           0.0|           0.0|             0|      0|\n",
      "+----+-------+---------+----------+-------------+--------------+-----------+--------------+--------------+--------------+-------+\n",
      "only showing top 3 rows\n",
      "\n"
     ]
    }
   ],
   "source": [
    "df.show(3)"
   ]
  },
  {
   "cell_type": "code",
   "execution_count": 15,
   "id": "9f0a8950-0a94-4850-a41e-20abce141d0f",
   "metadata": {
    "tags": []
   },
   "outputs": [],
   "source": [
    "df = df.select(\"type\", \"amount\", \"oldbalanceOrg\", \"newbalanceOrig\", \"isFraud\")"
   ]
  },
  {
   "cell_type": "code",
   "execution_count": 16,
   "id": "cd03f821-2fbb-4064-bc88-69e5a5a21239",
   "metadata": {
    "tags": []
   },
   "outputs": [
    {
     "name": "stdout",
     "output_type": "stream",
     "text": [
      "+--------+---------+-------------+--------------+-------+\n",
      "|    type|   amount|oldbalanceOrg|newbalanceOrig|isFraud|\n",
      "+--------+---------+-------------+--------------+-------+\n",
      "| CASH_IN|386385.08|   4669568.85|    5055953.92|      0|\n",
      "| CASH_IN|212458.78|     234635.0|     447093.78|      0|\n",
      "| PAYMENT|  19967.6|       3634.0|           0.0|      0|\n",
      "|CASH_OUT|527616.51|     180216.0|           0.0|      0|\n",
      "+--------+---------+-------------+--------------+-------+\n",
      "only showing top 4 rows\n",
      "\n"
     ]
    }
   ],
   "source": [
    "df.show(4)"
   ]
  },
  {
   "cell_type": "markdown",
   "id": "64970959-dd27-4b01-bd40-92a77d2507dc",
   "metadata": {},
   "source": [
    "## Train/Test Split"
   ]
  },
  {
   "cell_type": "code",
   "execution_count": 17,
   "id": "9bc32deb-0ac6-4f46-b31d-a8d98f27712f",
   "metadata": {
    "tags": []
   },
   "outputs": [],
   "source": [
    "train, test = df.randomSplit([.7, .3], seed = 7)"
   ]
  },
  {
   "cell_type": "code",
   "execution_count": 18,
   "id": "811e8284-ea16-4d0b-ba56-d9cb0d33c860",
   "metadata": {
    "tags": []
   },
   "outputs": [
    {
     "name": "stdout",
     "output_type": "stream",
     "text": [
      "Train set length: 3561695 records\n",
      "Test set length: 1528401 records\n"
     ]
    }
   ],
   "source": [
    "print(f\"Train set length: {train.count()} records\")\n",
    "print(f\"Test set length: {test.count()} records\")"
   ]
  },
  {
   "cell_type": "code",
   "execution_count": 19,
   "id": "70602e19-a71e-44fd-8e9c-56c906ac9fbf",
   "metadata": {
    "tags": []
   },
   "outputs": [
    {
     "name": "stdout",
     "output_type": "stream",
     "text": [
      "+-------+------+-------------+--------------+-------+\n",
      "|   type|amount|oldbalanceOrg|newbalanceOrig|isFraud|\n",
      "+-------+------+-------------+--------------+-------+\n",
      "|CASH_IN|  5.28|   8752959.06|    8752964.34|      0|\n",
      "|CASH_IN|  9.02|   2416260.59|    2416269.61|      0|\n",
      "|CASH_IN|  10.3|      58585.0|       58595.3|      0|\n",
      "+-------+------+-------------+--------------+-------+\n",
      "only showing top 3 rows\n",
      "\n"
     ]
    }
   ],
   "source": [
    "train.show(3)"
   ]
  },
  {
   "cell_type": "markdown",
   "id": "756b5179-eeae-43aa-9c74-e2f81aba6a7b",
   "metadata": {},
   "source": [
    "### Data Types"
   ]
  },
  {
   "cell_type": "code",
   "execution_count": 20,
   "id": "542a6238-ad48-42c7-b2d9-c555bd4b5b91",
   "metadata": {
    "tags": []
   },
   "outputs": [
    {
     "data": {
      "text/plain": [
       "[('type', 'string'),\n",
       " ('amount', 'double'),\n",
       " ('oldbalanceOrg', 'double'),\n",
       " ('newbalanceOrig', 'double'),\n",
       " ('isFraud', 'int')]"
      ]
     },
     "execution_count": 20,
     "metadata": {},
     "output_type": "execute_result"
    }
   ],
   "source": [
    "train.dtypes"
   ]
  },
  {
   "cell_type": "code",
   "execution_count": 21,
   "id": "d4d285c1-1b3c-4d25-a6e3-86e420e6071e",
   "metadata": {
    "tags": []
   },
   "outputs": [],
   "source": [
    "catCols = [x for (x, dataType) in train.dtypes if dataType == \"string\"]\n",
    "numCols = [\n",
    "    x for (x, dataType) in train.dtypes if ((dataType == \"double\") & (x != \"isFraud\"))\n",
    "]"
   ]
  },
  {
   "cell_type": "code",
   "execution_count": 22,
   "id": "04744bd5-4cc6-4a7b-a5e7-ad645e1f1a40",
   "metadata": {
    "tags": []
   },
   "outputs": [
    {
     "name": "stdout",
     "output_type": "stream",
     "text": [
      "['amount', 'oldbalanceOrg', 'newbalanceOrig']\n",
      "['type']\n"
     ]
    }
   ],
   "source": [
    "print(numCols)\n",
    "print(catCols)"
   ]
  },
  {
   "cell_type": "markdown",
   "id": "9437fcc8-f116-4350-8407-191099df71b4",
   "metadata": {},
   "source": [
    "## One hot encoding"
   ]
  },
  {
   "cell_type": "code",
   "execution_count": 23,
   "id": "f1f403ad-1298-4c8d-a2ce-ffab02e17802",
   "metadata": {
    "tags": []
   },
   "outputs": [
    {
     "name": "stdout",
     "output_type": "stream",
     "text": [
      "+--------------------+\n",
      "|count(DISTINCT type)|\n",
      "+--------------------+\n",
      "|                   5|\n",
      "+--------------------+\n",
      "\n"
     ]
    }
   ],
   "source": [
    "train.agg(F.countDistinct(\"type\")).show()"
   ]
  },
  {
   "cell_type": "code",
   "execution_count": 25,
   "id": "f3b20009-5ff7-4c4e-b95a-5824ec2c7b25",
   "metadata": {
    "tags": []
   },
   "outputs": [
    {
     "name": "stdout",
     "output_type": "stream",
     "text": [
      "+--------+-------+\n",
      "|    type|  count|\n",
      "+--------+-------+\n",
      "|TRANSFER| 298452|\n",
      "| CASH_IN| 783037|\n",
      "|CASH_OUT|1253864|\n",
      "| PAYMENT|1203106|\n",
      "|   DEBIT|  23236|\n",
      "+--------+-------+\n",
      "\n"
     ]
    }
   ],
   "source": [
    "train.groupBy(\"type\").count().show()"
   ]
  },
  {
   "cell_type": "code",
   "execution_count": 26,
   "id": "c70b0306-f2a1-4e0b-a76b-40230f03830a",
   "metadata": {
    "tags": []
   },
   "outputs": [],
   "source": [
    "from pyspark.ml.feature import (\n",
    "    OneHotEncoder,\n",
    "    StringIndexer,\n",
    ")"
   ]
  },
  {
   "cell_type": "code",
   "execution_count": 27,
   "id": "ce53a477-4cf1-4008-be00-fe90606e052c",
   "metadata": {
    "tags": []
   },
   "outputs": [],
   "source": [
    "string_indexer = [\n",
    "    StringIndexer(inputCol=x, outputCol=x + \"_StringIndexer\", handleInvalid=\"skip\")\n",
    "    for x in catCols\n",
    "]"
   ]
  },
  {
   "cell_type": "code",
   "execution_count": null,
   "id": "d2261f52-21a4-446f-b9d5-3c631949617e",
   "metadata": {},
   "outputs": [],
   "source": []
  }
 ],
 "metadata": {
  "kernelspec": {
   "display_name": "Python 3 (ipykernel)",
   "language": "python",
   "name": "python3"
  },
  "language_info": {
   "codemirror_mode": {
    "name": "ipython",
    "version": 3
   },
   "file_extension": ".py",
   "mimetype": "text/x-python",
   "name": "python",
   "nbconvert_exporter": "python",
   "pygments_lexer": "ipython3",
   "version": "3.11.5"
  }
 },
 "nbformat": 4,
 "nbformat_minor": 5
}
